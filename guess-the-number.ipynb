{
 "cells": [
  {
   "cell_type": "code",
   "execution_count": 1,
   "id": "d81d1dcd",
   "metadata": {
    "scrolled": false
   },
   "outputs": [],
   "source": [
    "def pick_a_number ():\n",
    "    user_number = 0\n",
    "    is_valid = False\n",
    "    while is_valid == False:\n",
    "        try:\n",
    "            while user_number < 1 or user_number > 100:\n",
    "                user_number = int(input(\"Please enter a number between 1 and 100\\n\"))\n",
    "        except:\n",
    "            print(\"Only numbers accepted\")\n",
    "            continue\n",
    "        is_valid = True\n",
    "    return user_number"
   ]
  },
  {
   "cell_type": "code",
   "execution_count": 2,
   "id": "1744187a",
   "metadata": {},
   "outputs": [],
   "source": [
    "def random_number():\n",
    "    import random\n",
    "    return random.randint(1, 100)"
   ]
  },
  {
   "cell_type": "code",
   "execution_count": 3,
   "id": "57ffdee1",
   "metadata": {},
   "outputs": [],
   "source": [
    "def score (turn, user_number, cpu_number, result):\n",
    "    if turn % 2 != 0:\n",
    "        user_score = user_number - cpu_number\n",
    "        result[0] = result[0]+abs(user_score)\n",
    "    else:\n",
    "        cpu_score = cpu_number - user_number\n",
    "        result [1] = result[1]+abs(cpu_score)\n",
    "    return result\n",
    "    print(\"\\n\")"
   ]
  },
  {
   "cell_type": "code",
   "execution_count": 4,
   "id": "dde414da",
   "metadata": {},
   "outputs": [],
   "source": [
    "def winner (points):\n",
    "    if points[0] < points [1]:\n",
    "        print(\"You won!\")\n",
    "    elif points[0] > points [1]:\n",
    "        print (\"You lost!\")\n",
    "    else:\n",
    "        print (\"It's a tie!\")\n"
   ]
  },
  {
   "cell_type": "code",
   "execution_count": 5,
   "id": "1c4a3306",
   "metadata": {},
   "outputs": [],
   "source": [
    "def play_again():\n",
    "    continue_play = \"\"\n",
    "    while continue_play != \"n\" and continue_play != \"y\":\n",
    "        \n",
    "        continue_play =  input(\"\\nWanna play again? Y/N \").lower()\n",
    "        \n",
    "    if continue_play == 'n':\n",
    "        print (\"See you next time!\")\n",
    "        return False\n",
    "    else:\n",
    "        return True"
   ]
  },
  {
   "cell_type": "code",
   "execution_count": null,
   "id": "8f06bfdf",
   "metadata": {},
   "outputs": [],
   "source": []
  },
  {
   "cell_type": "code",
   "execution_count": null,
   "id": "54ae3d10",
   "metadata": {},
   "outputs": [
    {
     "name": "stdout",
     "output_type": "stream",
     "text": [
      "Your turn. Try to guess CPU number\n"
     ]
    }
   ],
   "source": [
    "turn = 1\n",
    "result = [0,0]\n",
    "keep_play = True\n",
    "while keep_play == True:\n",
    "    if turn % 2 != 0:\n",
    "        print (\"Your turn. Try to guess CPU number\")\n",
    "        user_number = pick_a_number()\n",
    "        cpu_number = random_number()\n",
    "        points = score(turn,user_number,cpu_number,result)\n",
    "        print (f\"You choose {user_number}\")\n",
    "        print (f\"CPU choose {cpu_number}\")\n",
    "        print (f\"Your score {points[0]}\")\n",
    "        print (\"\\n\")\n",
    "    else:\n",
    "        print (\"CPU turn. CPU will try to guess your number\")\n",
    "        user_number = pick_a_number()\n",
    "        cpu_number = random_number()\n",
    "        points = score(turn,user_number,cpu_number,result)\n",
    "        print (f\"CPU choose {cpu_number}\")\n",
    "        print (f\"You choose {user_number}\")\n",
    "        print (f\"CPU score {points[1]}\")\n",
    "        print (\"\\n\")\n",
    "\n",
    "      \n",
    "        \n",
    "    if turn % 2 == 0:\n",
    "        winner(points)\n",
    "        keep_play = play_again()\n",
    "    turn +=1\n",
    "\n"
   ]
  },
  {
   "cell_type": "code",
   "execution_count": null,
   "id": "f8c91aee",
   "metadata": {},
   "outputs": [],
   "source": []
  }
 ],
 "metadata": {
  "kernelspec": {
   "display_name": "Python 3 (ipykernel)",
   "language": "python",
   "name": "python3"
  },
  "language_info": {
   "codemirror_mode": {
    "name": "ipython",
    "version": 3
   },
   "file_extension": ".py",
   "mimetype": "text/x-python",
   "name": "python",
   "nbconvert_exporter": "python",
   "pygments_lexer": "ipython3",
   "version": "3.9.7"
  }
 },
 "nbformat": 4,
 "nbformat_minor": 5
}
