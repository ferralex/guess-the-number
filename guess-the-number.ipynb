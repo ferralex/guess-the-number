{
 "cells": [
  {
   "cell_type": "code",
   "execution_count": 1,
   "id": "9df10173",
   "metadata": {},
   "outputs": [],
   "source": [
    "def instructions():\n",
    "    import time\n",
    "    print (\"Welcome! Guess your opponent number and choose a number your opponent will guess.\\nWhoever gets closer, is the winner\\n\")\n",
    "    time.sleep(0.2)"
   ]
  },
  {
   "cell_type": "code",
   "execution_count": 2,
   "id": "d81d1dcd",
   "metadata": {
    "scrolled": false
   },
   "outputs": [],
   "source": [
    "def pick_a_number ():\n",
    "    user_choice = 0\n",
    "    is_valid = False\n",
    "    while is_valid == False:\n",
    "        try:\n",
    "            while user_choice < 1 or user_choice > 100:\n",
    "                user_choice = int(input(\"Please enter a number between 1 and 100\\n\"))\n",
    "        except:\n",
    "            print(\"Only numbers accepted\")\n",
    "            continue\n",
    "        is_valid = True\n",
    "    return user_choice"
   ]
  },
  {
   "cell_type": "code",
   "execution_count": 3,
   "id": "1744187a",
   "metadata": {},
   "outputs": [],
   "source": [
    "def random_number():\n",
    "    import random\n",
    "    return random.randint(1, 100)"
   ]
  },
  {
   "cell_type": "code",
   "execution_count": 4,
   "id": "57ffdee1",
   "metadata": {},
   "outputs": [],
   "source": [
    "def score (turn, user_number, cpu_number, result):\n",
    "    if turn % 2 != 0:\n",
    "        user_score = user_number - cpu_number\n",
    "        result[0] = abs(user_score)\n",
    "    else:\n",
    "        cpu_score = cpu_number - user_number\n",
    "        result [1] = abs(cpu_score)\n",
    "    return result\n",
    "    print(\"\\n\")"
   ]
  },
  {
   "cell_type": "code",
   "execution_count": 5,
   "id": "dde414da",
   "metadata": {},
   "outputs": [],
   "source": [
    "def game_winner (result):\n",
    "    if result[0] < result [1]:\n",
    "        print(f\"You won! You scored {result[0]} points. CPU scored {result[1]} points\")\n",
    "        result[2] += 1\n",
    "    elif result[0] > result [1]:\n",
    "        print (f\"You lost! You scored {result[0]} points. CPU scored {result[1]} points\")\n",
    "        result[3] += 1\n",
    "    else:\n",
    "        print (f\"It's a tie! You scored {result[0]} points. CPU scored {result[1]} points\")"
   ]
  },
  {
   "cell_type": "code",
   "execution_count": 6,
   "id": "1c4a3306",
   "metadata": {},
   "outputs": [],
   "source": [
    "def play_again():\n",
    "    continue_play = \"\"\n",
    "    while continue_play != \"n\" and continue_play != \"y\":\n",
    "        \n",
    "        continue_play =  input(\"\\nWanna play again? Y/N\\n\").lower()\n",
    "        \n",
    "    if continue_play == 'n':\n",
    "        return False\n",
    "    else:\n",
    "        return True"
   ]
  },
  {
   "cell_type": "code",
   "execution_count": 7,
   "id": "c263806d",
   "metadata": {},
   "outputs": [],
   "source": [
    "def session_winner (result):\n",
    "    if result[2] > result [3]:\n",
    "        print (f\"You are the winner! You won {result[2]} game(s), the CPU won {result[3]} game(s)\")\n",
    "    elif result[3] > result [2]:\n",
    "        print (f\"Oh no! You lost! The CPU won {result[3]} game(s) and you won {result[2]} game(s)\")\n",
    "    else:\n",
    "        print (f\"It's a tie! You won {result[2]} game(s), the CPU won {result[3]} game(s)\")"
   ]
  },
  {
   "cell_type": "code",
   "execution_count": 8,
   "id": "54ae3d10",
   "metadata": {},
   "outputs": [
    {
     "name": "stdout",
     "output_type": "stream",
     "text": [
      "Welcome! Guess your opponent number and choose a number your opponent will guess.\n",
      "Whoever gets closer, is the winner\n",
      "\n",
      "GAME 1\n",
      "Your turn. Try to guess CPU number\n",
      "Please enter a number between 1 and 100\n",
      "50\n",
      "You choose 50\n",
      "CPU choose 3\n",
      "You score 47 points\n",
      "\n",
      "GAME 1\n",
      "CPU turn. CPU will try to guess your number\n",
      "Please enter a number between 1 and 100\n",
      "1\n",
      "CPU choose 37\n",
      "You choose 1\n",
      "CPU scores 36 points\n",
      "\n",
      "You lost! You scored 47 points. CPU scored 36 points\n",
      "\n",
      "Wanna play again? Y/N\n",
      "n\n",
      "Oh no! You lost! The CPU won 1 game(s) and you won 0 game(s)\n",
      "See you next time!\n"
     ]
    }
   ],
   "source": [
    "instructions()\n",
    "turn = 1\n",
    "game = 1\n",
    "result = [0,0,0,0]\n",
    "keep_play = True\n",
    "while keep_play == True:\n",
    "    print (f\"GAME {game}\")\n",
    "    if turn % 2 != 0:\n",
    "        print (\"Your turn. Try to guess CPU number\")\n",
    "        user_number = pick_a_number()\n",
    "        cpu_number = random_number()\n",
    "        score(turn,user_number,cpu_number,result)\n",
    "        print (f\"You choose {user_number}\")\n",
    "        print (f\"CPU choose {cpu_number}\")\n",
    "        print (f\"You score {result[0]} points\\n\")\n",
    "    elif turn % 2 == 0:\n",
    "        print (\"CPU turn. CPU will try to guess your number\")\n",
    "        user_number = pick_a_number()\n",
    "        cpu_number = random_number()\n",
    "        score(turn,user_number,cpu_number,result)\n",
    "        print (f\"CPU choose {cpu_number}\")\n",
    "        print (f\"You choose {user_number}\")\n",
    "        print (f\"CPU scores {result[1]} points\\n\")\n",
    "        game_winner(result)\n",
    "        game +=1\n",
    "        keep_play = play_again()\n",
    "    turn +=1\n",
    "session_winner(result)\n",
    "print (\"See you next time!\")"
   ]
  },
  {
   "cell_type": "code",
   "execution_count": null,
   "id": "4a052eb3",
   "metadata": {},
   "outputs": [],
   "source": []
  }
 ],
 "metadata": {
  "kernelspec": {
   "display_name": "Python 3 (ipykernel)",
   "language": "python",
   "name": "python3"
  },
  "language_info": {
   "codemirror_mode": {
    "name": "ipython",
    "version": 3
   },
   "file_extension": ".py",
   "mimetype": "text/x-python",
   "name": "python",
   "nbconvert_exporter": "python",
   "pygments_lexer": "ipython3",
   "version": "3.9.7"
  }
 },
 "nbformat": 4,
 "nbformat_minor": 5
}
